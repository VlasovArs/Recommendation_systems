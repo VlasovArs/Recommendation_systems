{
  "cells": [
    {
      "cell_type": "markdown",
      "metadata": {
        "id": "view-in-github",
        "colab_type": "text"
      },
      "source": [
        "<a href=\"https://colab.research.google.com/github/VlasovArs/Recommendation_systems/blob/main/5_HW_by_Demonstration.ipynb\" target=\"_parent\"><img src=\"https://colab.research.google.com/assets/colab-badge.svg\" alt=\"Open In Colab\"/></a>"
      ]
    },
    {
      "cell_type": "code",
      "execution_count": null,
      "metadata": {
        "id": "m1gD3u2cjPQE"
      },
      "outputs": [],
      "source": [
        "import pandas as pd\n",
        "import numpy as np"
      ]
    },
    {
      "cell_type": "code",
      "execution_count": null,
      "metadata": {
        "id": "rS2M0toLjPQK"
      },
      "outputs": [],
      "source": [
        "from surprise import Dataset\n",
        "from surprise import Reader\n"
      ]
    },
    {
      "cell_type": "code",
      "execution_count": null,
      "metadata": {
        "id": "rTNc0ZL7jPQL"
      },
      "outputs": [],
      "source": [
        "from surprise import SVD"
      ]
    },
    {
      "cell_type": "code",
      "execution_count": null,
      "metadata": {
        "id": "XttJdup0jPQM"
      },
      "outputs": [],
      "source": [
        "from surprise import KNNBaseline\n",
        "from surprise.model_selection import cross_validate"
      ]
    },
    {
      "cell_type": "markdown",
      "metadata": {
        "id": "Ok7AfbSUjPQO"
      },
      "source": [
        "## Задание:\n",
        "```data = Dataset.load_builtin('ml-100k')\n",
        "trainset, testset = train_test_split(data, test_size=.30, random_state=999)```\n",
        "1. Для параметров i = [1,5,9,12,17,22] найдите лучший SVD (random_state=999) алгоритм по метрике MAP(n=7)\n",
        "\n",
        "2. Сделайте прогноз по всем пользователям, который равен среднему из KNN (k=15, c корреляцией Пирсона и item-based подходом) и SVD (n = лучший из пункта 1).\n",
        "Сравните по метрике MAP(n=7) полученные предсказания с kNN и SVD."
      ]
    },
    {
      "cell_type": "markdown",
      "metadata": {
        "id": "690mfc3fjPQS"
      },
      "source": [
        "### Задача 1"
      ]
    },
    {
      "cell_type": "code",
      "execution_count": null,
      "metadata": {
        "id": "TyzlMixAjPQU"
      },
      "outputs": [],
      "source": [
        "from surprise.model_selection import train_test_split"
      ]
    },
    {
      "cell_type": "code",
      "execution_count": null,
      "metadata": {
        "id": "XAyJnU0EjPQX"
      },
      "outputs": [],
      "source": [
        "def Precision_at_n(df_ratings, n=3, threshold=5):\n",
        "    rel_n = set(df_ratings[df_ratings.real_rating>=threshold]['itemID'])\n",
        "    t=df_ratings.sort_values(by='rating', ascending=False)[0:n]\n",
        "    ret_n=set(t['itemID'])\n",
        "    return len(rel_n & ret_n)/n"
      ]
    },
    {
      "cell_type": "code",
      "execution_count": null,
      "metadata": {
        "id": "-AMo3C2jjPQY"
      },
      "outputs": [],
      "source": [
        "def Avg_Precision_at_n(df_ratings, n=10,threshold=5):\n",
        "    avg_p=0\n",
        "    rel_n = set(df_ratings[df_ratings.real_rating>=threshold]['itemID'])\n",
        "\n",
        "    for i in range(1,n+1):\n",
        "        t=df_ratings.sort_values(by='rating', ascending=False)[0:i]\n",
        "        ret_n=set(t['itemID'])\n",
        "        t2=df_ratings.sort_values(by='rating', ascending=False)[i-1:i]\n",
        "        ret_n2=set(t2['itemID'])\n",
        "        #print(ret_n2,ret_n)\n",
        "        if len((ret_n2 & rel_n))>0:\n",
        "            avg_p=avg_p+len(rel_n & ret_n)/n\n",
        "    return avg_p/n"
      ]
    },
    {
      "cell_type": "code",
      "execution_count": null,
      "metadata": {
        "id": "Odey0Kg6jPQZ"
      },
      "outputs": [],
      "source": [
        "def MAP_at_n(df_ratings_all, n=10,threshold=5):\n",
        "    users=df_ratings_all['userID'].unique()\n",
        "    map_at_n=0\n",
        "    for i in users:\n",
        "        df_ratings=df_ratings_all[df_ratings_all.userID==i]\n",
        "        map_at_n=map_at_n+Avg_Precision_at_n(df_ratings,n=n,threshold=threshold)\n",
        "    return map_at_n/len(users)"
      ]
    },
    {
      "cell_type": "code",
      "execution_count": null,
      "metadata": {
        "id": "rJ673yWvjPQa"
      },
      "outputs": [],
      "source": [
        "data = Dataset.load_builtin('ml-100k')\n",
        "trainset, testset = train_test_split(data, test_size=.30, random_state=999)"
      ]
    },
    {
      "cell_type": "code",
      "execution_count": null,
      "metadata": {
        "id": "1Y5ZK1pmjPQb",
        "outputId": "db85c50e-1839-4041-e918-2d3c1a25db2b"
      },
      "outputs": [
        {
          "name": "stdout",
          "output_type": "stream",
          "text": [
            "1 0.11792585538987567\n",
            "5 0.11985197048066282\n",
            "9 0.11985197048066278\n",
            "12 0.11889973380656582\n",
            "17 0.12229748739368461\n",
            "22 0.11768779622135146\n"
          ]
        }
      ],
      "source": [
        "for k in [1,5,9,12,17,22]:\n",
        "    algo = SVD(n_factors=k,random_state=999, verbose=False) #отключим вывод логирования\n",
        "    predictions = algo.fit(trainset).test(testset)\n",
        "    df_ratings=pd.DataFrame(columns=['userID', 'itemID', 'rating', 'real_rating'])\n",
        "    for i in predictions:\n",
        "        df_ratings = df_ratings.append({'userID':i.uid, 'itemID': i.iid, 'rating': i.est, 'real_rating': i.r_ui}, ignore_index=True)\n",
        "    print(k,MAP_at_n(df_ratings,7))"
      ]
    },
    {
      "cell_type": "code",
      "execution_count": null,
      "metadata": {
        "id": "uEPLbYibjPQd"
      },
      "outputs": [],
      "source": [
        "#17"
      ]
    },
    {
      "cell_type": "markdown",
      "metadata": {
        "id": "Zq9PKCbWjPQe"
      },
      "source": [
        "### Задача 2"
      ]
    },
    {
      "cell_type": "code",
      "execution_count": null,
      "metadata": {
        "id": "DaEnSHajjPQf"
      },
      "outputs": [],
      "source": [
        "from surprise import KNNBaseline"
      ]
    },
    {
      "cell_type": "code",
      "execution_count": null,
      "metadata": {
        "id": "OBy1DQ-IjPQh"
      },
      "outputs": [],
      "source": [
        "knn=KNNBaseline(k=15,sim_options = {'name': 'pearson_baseline','user_based': False}, verbose=False)\n",
        "svd = SVD(n_factors=17,random_state=999, verbose=False)"
      ]
    },
    {
      "cell_type": "code",
      "execution_count": null,
      "metadata": {
        "id": "MjhlgGCfjPQi"
      },
      "outputs": [],
      "source": [
        "predictions = knn.fit(trainset).test(testset)\n",
        "df_ratings=pd.DataFrame(columns=['userID', 'itemID', 'rating', 'real_rating'])\n",
        "for i in predictions:\n",
        "    df_ratings = df_ratings.append({'userID':i.uid, 'itemID': i.iid, 'rating': i.est, 'real_rating': i.r_ui}, ignore_index=True)"
      ]
    },
    {
      "cell_type": "code",
      "execution_count": null,
      "metadata": {
        "id": "gzYw_JfejPQm",
        "outputId": "d3511e27-7bbe-46f1-b9eb-9428136a1437"
      },
      "outputs": [
        {
          "data": {
            "text/html": [
              "<div>\n",
              "<style scoped>\n",
              "    .dataframe tbody tr th:only-of-type {\n",
              "        vertical-align: middle;\n",
              "    }\n",
              "\n",
              "    .dataframe tbody tr th {\n",
              "        vertical-align: top;\n",
              "    }\n",
              "\n",
              "    .dataframe thead th {\n",
              "        text-align: right;\n",
              "    }\n",
              "</style>\n",
              "<table border=\"1\" class=\"dataframe\">\n",
              "  <thead>\n",
              "    <tr style=\"text-align: right;\">\n",
              "      <th></th>\n",
              "      <th>userID</th>\n",
              "      <th>itemID</th>\n",
              "      <th>rating</th>\n",
              "      <th>real_rating</th>\n",
              "    </tr>\n",
              "  </thead>\n",
              "  <tbody>\n",
              "    <tr>\n",
              "      <td>0</td>\n",
              "      <td>753</td>\n",
              "      <td>357</td>\n",
              "      <td>3.601156</td>\n",
              "      <td>4.0</td>\n",
              "    </tr>\n",
              "    <tr>\n",
              "      <td>1</td>\n",
              "      <td>542</td>\n",
              "      <td>585</td>\n",
              "      <td>2.541421</td>\n",
              "      <td>2.0</td>\n",
              "    </tr>\n",
              "    <tr>\n",
              "      <td>2</td>\n",
              "      <td>5</td>\n",
              "      <td>364</td>\n",
              "      <td>2.906434</td>\n",
              "      <td>1.0</td>\n",
              "    </tr>\n",
              "    <tr>\n",
              "      <td>3</td>\n",
              "      <td>887</td>\n",
              "      <td>385</td>\n",
              "      <td>4.244959</td>\n",
              "      <td>4.0</td>\n",
              "    </tr>\n",
              "    <tr>\n",
              "      <td>4</td>\n",
              "      <td>383</td>\n",
              "      <td>480</td>\n",
              "      <td>4.868237</td>\n",
              "      <td>5.0</td>\n",
              "    </tr>\n",
              "  </tbody>\n",
              "</table>\n",
              "</div>"
            ],
            "text/plain": [
              "  userID itemID    rating  real_rating\n",
              "0    753    357  3.601156          4.0\n",
              "1    542    585  2.541421          2.0\n",
              "2      5    364  2.906434          1.0\n",
              "3    887    385  4.244959          4.0\n",
              "4    383    480  4.868237          5.0"
            ]
          },
          "execution_count": 15,
          "metadata": {},
          "output_type": "execute_result"
        }
      ],
      "source": [
        "df_ratings.head()"
      ]
    },
    {
      "cell_type": "code",
      "execution_count": null,
      "metadata": {
        "id": "kFjT5hlljPQn"
      },
      "outputs": [],
      "source": [
        "predictions = svd.fit(trainset).test(testset)\n",
        "df_ratings2=pd.DataFrame(columns=['userID', 'itemID', 'rating', 'real_rating'])\n",
        "for i in predictions:\n",
        "    df_ratings2 = df_ratings2.append({'userID':i.uid, 'itemID': i.iid, 'rating': i.est, 'real_rating': i.r_ui}, ignore_index=True)"
      ]
    },
    {
      "cell_type": "code",
      "execution_count": null,
      "metadata": {
        "id": "14cacumsjPQn",
        "outputId": "7d655a50-ecb9-401b-c9d2-8f2864675c50"
      },
      "outputs": [
        {
          "data": {
            "text/html": [
              "<div>\n",
              "<style scoped>\n",
              "    .dataframe tbody tr th:only-of-type {\n",
              "        vertical-align: middle;\n",
              "    }\n",
              "\n",
              "    .dataframe tbody tr th {\n",
              "        vertical-align: top;\n",
              "    }\n",
              "\n",
              "    .dataframe thead th {\n",
              "        text-align: right;\n",
              "    }\n",
              "</style>\n",
              "<table border=\"1\" class=\"dataframe\">\n",
              "  <thead>\n",
              "    <tr style=\"text-align: right;\">\n",
              "      <th></th>\n",
              "      <th>userID</th>\n",
              "      <th>itemID</th>\n",
              "      <th>rating</th>\n",
              "      <th>real_rating</th>\n",
              "    </tr>\n",
              "  </thead>\n",
              "  <tbody>\n",
              "    <tr>\n",
              "      <td>0</td>\n",
              "      <td>753</td>\n",
              "      <td>357</td>\n",
              "      <td>3.543399</td>\n",
              "      <td>4.0</td>\n",
              "    </tr>\n",
              "    <tr>\n",
              "      <td>1</td>\n",
              "      <td>542</td>\n",
              "      <td>585</td>\n",
              "      <td>2.627620</td>\n",
              "      <td>2.0</td>\n",
              "    </tr>\n",
              "    <tr>\n",
              "      <td>2</td>\n",
              "      <td>5</td>\n",
              "      <td>364</td>\n",
              "      <td>2.345794</td>\n",
              "      <td>1.0</td>\n",
              "    </tr>\n",
              "    <tr>\n",
              "      <td>3</td>\n",
              "      <td>887</td>\n",
              "      <td>385</td>\n",
              "      <td>4.106974</td>\n",
              "      <td>4.0</td>\n",
              "    </tr>\n",
              "    <tr>\n",
              "      <td>4</td>\n",
              "      <td>383</td>\n",
              "      <td>480</td>\n",
              "      <td>4.550769</td>\n",
              "      <td>5.0</td>\n",
              "    </tr>\n",
              "  </tbody>\n",
              "</table>\n",
              "</div>"
            ],
            "text/plain": [
              "  userID itemID    rating  real_rating\n",
              "0    753    357  3.543399          4.0\n",
              "1    542    585  2.627620          2.0\n",
              "2      5    364  2.345794          1.0\n",
              "3    887    385  4.106974          4.0\n",
              "4    383    480  4.550769          5.0"
            ]
          },
          "execution_count": 17,
          "metadata": {},
          "output_type": "execute_result"
        }
      ],
      "source": [
        "df_ratings2.head()"
      ]
    },
    {
      "cell_type": "code",
      "execution_count": null,
      "metadata": {
        "id": "ex1ppakAjPQo"
      },
      "outputs": [],
      "source": [
        "df_knn_svd=df_ratings.merge(df_ratings2[['userID','itemID','rating']],how='left', on=['userID','itemID'])"
      ]
    },
    {
      "cell_type": "code",
      "execution_count": null,
      "metadata": {
        "id": "vrpJRH2HjPQo"
      },
      "outputs": [],
      "source": [
        "df_knn_svd['rating']=(df_knn_svd['rating_x']+ df_knn_svd['rating_y'])/2"
      ]
    },
    {
      "cell_type": "code",
      "execution_count": null,
      "metadata": {
        "id": "W36f70o1jPQp",
        "outputId": "c1ba7fe2-cf7a-4b46-9f0b-6d7493ca36a1"
      },
      "outputs": [
        {
          "data": {
            "text/html": [
              "<div>\n",
              "<style scoped>\n",
              "    .dataframe tbody tr th:only-of-type {\n",
              "        vertical-align: middle;\n",
              "    }\n",
              "\n",
              "    .dataframe tbody tr th {\n",
              "        vertical-align: top;\n",
              "    }\n",
              "\n",
              "    .dataframe thead th {\n",
              "        text-align: right;\n",
              "    }\n",
              "</style>\n",
              "<table border=\"1\" class=\"dataframe\">\n",
              "  <thead>\n",
              "    <tr style=\"text-align: right;\">\n",
              "      <th></th>\n",
              "      <th>userID</th>\n",
              "      <th>itemID</th>\n",
              "      <th>rating_x</th>\n",
              "      <th>real_rating</th>\n",
              "      <th>rating_y</th>\n",
              "      <th>rating</th>\n",
              "    </tr>\n",
              "  </thead>\n",
              "  <tbody>\n",
              "    <tr>\n",
              "      <td>0</td>\n",
              "      <td>753</td>\n",
              "      <td>357</td>\n",
              "      <td>3.601156</td>\n",
              "      <td>4.0</td>\n",
              "      <td>3.543399</td>\n",
              "      <td>3.572277</td>\n",
              "    </tr>\n",
              "    <tr>\n",
              "      <td>1</td>\n",
              "      <td>542</td>\n",
              "      <td>585</td>\n",
              "      <td>2.541421</td>\n",
              "      <td>2.0</td>\n",
              "      <td>2.627620</td>\n",
              "      <td>2.584520</td>\n",
              "    </tr>\n",
              "    <tr>\n",
              "      <td>2</td>\n",
              "      <td>5</td>\n",
              "      <td>364</td>\n",
              "      <td>2.906434</td>\n",
              "      <td>1.0</td>\n",
              "      <td>2.345794</td>\n",
              "      <td>2.626114</td>\n",
              "    </tr>\n",
              "    <tr>\n",
              "      <td>3</td>\n",
              "      <td>887</td>\n",
              "      <td>385</td>\n",
              "      <td>4.244959</td>\n",
              "      <td>4.0</td>\n",
              "      <td>4.106974</td>\n",
              "      <td>4.175967</td>\n",
              "    </tr>\n",
              "    <tr>\n",
              "      <td>4</td>\n",
              "      <td>383</td>\n",
              "      <td>480</td>\n",
              "      <td>4.868237</td>\n",
              "      <td>5.0</td>\n",
              "      <td>4.550769</td>\n",
              "      <td>4.709503</td>\n",
              "    </tr>\n",
              "  </tbody>\n",
              "</table>\n",
              "</div>"
            ],
            "text/plain": [
              "  userID itemID  rating_x  real_rating  rating_y    rating\n",
              "0    753    357  3.601156          4.0  3.543399  3.572277\n",
              "1    542    585  2.541421          2.0  2.627620  2.584520\n",
              "2      5    364  2.906434          1.0  2.345794  2.626114\n",
              "3    887    385  4.244959          4.0  4.106974  4.175967\n",
              "4    383    480  4.868237          5.0  4.550769  4.709503"
            ]
          },
          "execution_count": 21,
          "metadata": {},
          "output_type": "execute_result"
        }
      ],
      "source": [
        "df_knn_svd.head()"
      ]
    },
    {
      "cell_type": "code",
      "execution_count": null,
      "metadata": {
        "id": "QUW8i2uojPQp",
        "outputId": "8b89f6a7-0985-45fc-d403-f1ed6980d577"
      },
      "outputs": [
        {
          "name": "stdout",
          "output_type": "stream",
          "text": [
            "0.12677732811045903 0.12229748739368461 0.12775120652714916\n"
          ]
        }
      ],
      "source": [
        "print(MAP_at_n(df_ratings,7),MAP_at_n(df_ratings2,7),MAP_at_n(df_knn_svd,7))"
      ]
    },
    {
      "cell_type": "code",
      "execution_count": null,
      "metadata": {
        "id": "sOmZQzhXjPQq"
      },
      "outputs": [],
      "source": []
    }
  ],
  "metadata": {
    "kernelspec": {
      "display_name": "Python 3",
      "language": "python",
      "name": "python3"
    },
    "language_info": {
      "codemirror_mode": {
        "name": "ipython",
        "version": 3
      },
      "file_extension": ".py",
      "mimetype": "text/x-python",
      "name": "python",
      "nbconvert_exporter": "python",
      "pygments_lexer": "ipython3",
      "version": "3.7.4"
    },
    "colab": {
      "provenance": [],
      "include_colab_link": true
    }
  },
  "nbformat": 4,
  "nbformat_minor": 0
}