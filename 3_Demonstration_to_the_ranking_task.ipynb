{
  "cells": [
    {
      "cell_type": "markdown",
      "metadata": {
        "id": "view-in-github",
        "colab_type": "text"
      },
      "source": [
        "<a href=\"https://colab.research.google.com/github/VlasovArs/Recommendation_systems/blob/main/3_Demonstration_to_the_ranking_task.ipynb\" target=\"_parent\"><img src=\"https://colab.research.google.com/assets/colab-badge.svg\" alt=\"Open In Colab\"/></a>"
      ]
    },
    {
      "cell_type": "code",
      "execution_count": null,
      "metadata": {
        "id": "Qfw94J1UsnGO"
      },
      "outputs": [],
      "source": [
        "import pandas as pd\n",
        "import numpy as np"
      ]
    },
    {
      "cell_type": "code",
      "execution_count": null,
      "metadata": {
        "id": "aoqVs_VbsnGR"
      },
      "outputs": [],
      "source": [
        "df = pd.read_csv(\"recdemo.csv\", sep=\";\") #небольшой dataset"
      ]
    },
    {
      "cell_type": "code",
      "execution_count": null,
      "metadata": {
        "id": "Y3PI0eFXsnGS",
        "outputId": "c0a6e43c-d3f6-413b-bd45-9a564449baf9"
      },
      "outputs": [
        {
          "data": {
            "text/html": [
              "<div>\n",
              "<style scoped>\n",
              "    .dataframe tbody tr th:only-of-type {\n",
              "        vertical-align: middle;\n",
              "    }\n",
              "\n",
              "    .dataframe tbody tr th {\n",
              "        vertical-align: top;\n",
              "    }\n",
              "\n",
              "    .dataframe thead th {\n",
              "        text-align: right;\n",
              "    }\n",
              "</style>\n",
              "<table border=\"1\" class=\"dataframe\">\n",
              "  <thead>\n",
              "    <tr style=\"text-align: right;\">\n",
              "      <th></th>\n",
              "      <th>id</th>\n",
              "      <th>A</th>\n",
              "      <th>B</th>\n",
              "      <th>C</th>\n",
              "      <th>D</th>\n",
              "      <th>E</th>\n",
              "      <th>F</th>\n",
              "    </tr>\n",
              "  </thead>\n",
              "  <tbody>\n",
              "    <tr>\n",
              "      <td>0</td>\n",
              "      <td>1</td>\n",
              "      <td>3.0</td>\n",
              "      <td>4.0</td>\n",
              "      <td>2.0</td>\n",
              "      <td>4.0</td>\n",
              "      <td>1.0</td>\n",
              "      <td>NaN</td>\n",
              "    </tr>\n",
              "    <tr>\n",
              "      <td>1</td>\n",
              "      <td>2</td>\n",
              "      <td>3.0</td>\n",
              "      <td>4.0</td>\n",
              "      <td>2.0</td>\n",
              "      <td>4.0</td>\n",
              "      <td>NaN</td>\n",
              "      <td>2.0</td>\n",
              "    </tr>\n",
              "    <tr>\n",
              "      <td>2</td>\n",
              "      <td>3</td>\n",
              "      <td>NaN</td>\n",
              "      <td>2.0</td>\n",
              "      <td>5.0</td>\n",
              "      <td>5.0</td>\n",
              "      <td>NaN</td>\n",
              "      <td>5.0</td>\n",
              "    </tr>\n",
              "    <tr>\n",
              "      <td>3</td>\n",
              "      <td>4</td>\n",
              "      <td>NaN</td>\n",
              "      <td>NaN</td>\n",
              "      <td>NaN</td>\n",
              "      <td>NaN</td>\n",
              "      <td>4.0</td>\n",
              "      <td>NaN</td>\n",
              "    </tr>\n",
              "    <tr>\n",
              "      <td>4</td>\n",
              "      <td>5</td>\n",
              "      <td>3.0</td>\n",
              "      <td>NaN</td>\n",
              "      <td>2.0</td>\n",
              "      <td>4.0</td>\n",
              "      <td>4.0</td>\n",
              "      <td>NaN</td>\n",
              "    </tr>\n",
              "    <tr>\n",
              "      <td>5</td>\n",
              "      <td>6</td>\n",
              "      <td>NaN</td>\n",
              "      <td>5.0</td>\n",
              "      <td>5.0</td>\n",
              "      <td>5.0</td>\n",
              "      <td>NaN</td>\n",
              "      <td>5.0</td>\n",
              "    </tr>\n",
              "    <tr>\n",
              "      <td>6</td>\n",
              "      <td>7</td>\n",
              "      <td>1.0</td>\n",
              "      <td>NaN</td>\n",
              "      <td>NaN</td>\n",
              "      <td>2.0</td>\n",
              "      <td>NaN</td>\n",
              "      <td>3.0</td>\n",
              "    </tr>\n",
              "    <tr>\n",
              "      <td>7</td>\n",
              "      <td>8</td>\n",
              "      <td>NaN</td>\n",
              "      <td>NaN</td>\n",
              "      <td>NaN</td>\n",
              "      <td>NaN</td>\n",
              "      <td>4.0</td>\n",
              "      <td>4.0</td>\n",
              "    </tr>\n",
              "  </tbody>\n",
              "</table>\n",
              "</div>"
            ],
            "text/plain": [
              "   id    A    B    C    D    E    F\n",
              "0   1  3.0  4.0  2.0  4.0  1.0  NaN\n",
              "1   2  3.0  4.0  2.0  4.0  NaN  2.0\n",
              "2   3  NaN  2.0  5.0  5.0  NaN  5.0\n",
              "3   4  NaN  NaN  NaN  NaN  4.0  NaN\n",
              "4   5  3.0  NaN  2.0  4.0  4.0  NaN\n",
              "5   6  NaN  5.0  5.0  5.0  NaN  5.0\n",
              "6   7  1.0  NaN  NaN  2.0  NaN  3.0\n",
              "7   8  NaN  NaN  NaN  NaN  4.0  4.0"
            ]
          },
          "execution_count": 4,
          "metadata": {},
          "output_type": "execute_result"
        }
      ],
      "source": [
        "df"
      ]
    },
    {
      "cell_type": "code",
      "execution_count": null,
      "metadata": {
        "id": "SXSdiNn7snGT",
        "outputId": "56007ee4-9289-4810-9aa4-47fe79eb5b2e"
      },
      "outputs": [
        {
          "data": {
            "text/html": [
              "<div>\n",
              "<style scoped>\n",
              "    .dataframe tbody tr th:only-of-type {\n",
              "        vertical-align: middle;\n",
              "    }\n",
              "\n",
              "    .dataframe tbody tr th {\n",
              "        vertical-align: top;\n",
              "    }\n",
              "\n",
              "    .dataframe thead th {\n",
              "        text-align: right;\n",
              "    }\n",
              "</style>\n",
              "<table border=\"1\" class=\"dataframe\">\n",
              "  <thead>\n",
              "    <tr style=\"text-align: right;\">\n",
              "      <th></th>\n",
              "      <th>id</th>\n",
              "      <th>variable</th>\n",
              "      <th>value</th>\n",
              "    </tr>\n",
              "  </thead>\n",
              "  <tbody>\n",
              "    <tr>\n",
              "      <td>0</td>\n",
              "      <td>1</td>\n",
              "      <td>A</td>\n",
              "      <td>3.0</td>\n",
              "    </tr>\n",
              "    <tr>\n",
              "      <td>1</td>\n",
              "      <td>2</td>\n",
              "      <td>A</td>\n",
              "      <td>3.0</td>\n",
              "    </tr>\n",
              "    <tr>\n",
              "      <td>2</td>\n",
              "      <td>3</td>\n",
              "      <td>A</td>\n",
              "      <td>NaN</td>\n",
              "    </tr>\n",
              "    <tr>\n",
              "      <td>3</td>\n",
              "      <td>4</td>\n",
              "      <td>A</td>\n",
              "      <td>NaN</td>\n",
              "    </tr>\n",
              "    <tr>\n",
              "      <td>4</td>\n",
              "      <td>5</td>\n",
              "      <td>A</td>\n",
              "      <td>3.0</td>\n",
              "    </tr>\n",
              "  </tbody>\n",
              "</table>\n",
              "</div>"
            ],
            "text/plain": [
              "   id variable  value\n",
              "0   1        A    3.0\n",
              "1   2        A    3.0\n",
              "2   3        A    NaN\n",
              "3   4        A    NaN\n",
              "4   5        A    3.0"
            ]
          },
          "execution_count": 5,
          "metadata": {},
          "output_type": "execute_result"
        }
      ],
      "source": [
        "df_unpivot=pd.melt(df, id_vars=['id'])\n",
        "df_unpivot.head()"
      ]
    },
    {
      "cell_type": "code",
      "execution_count": null,
      "metadata": {
        "id": "S1BW2n-AsnGU"
      },
      "outputs": [],
      "source": [
        "df_unpivot.dropna(inplace=True)\n",
        "df_unpivot.columns=['userID', 'itemID', 'rating']"
      ]
    },
    {
      "cell_type": "code",
      "execution_count": null,
      "metadata": {
        "id": "vGw7R2dusnGV"
      },
      "outputs": [],
      "source": [
        "from surprise import Dataset\n",
        "from surprise import Reader"
      ]
    },
    {
      "cell_type": "code",
      "execution_count": null,
      "metadata": {
        "id": "xzcJ1B6JsnGW"
      },
      "outputs": [],
      "source": [
        "reader = Reader(rating_scale=(1, 5)) # Зададим разброс оценок\n",
        "data = Dataset.load_from_df(df_unpivot[['userID', 'itemID', 'rating']], reader) #создадим объект, с которым умеет работать библиотека"
      ]
    },
    {
      "cell_type": "code",
      "execution_count": null,
      "metadata": {
        "id": "fHfTzxCUsnGX"
      },
      "outputs": [],
      "source": [
        "trainset = data.build_full_trainset()\n",
        "testset = trainset.build_anti_testset()"
      ]
    },
    {
      "cell_type": "code",
      "execution_count": null,
      "metadata": {
        "id": "oXqcg5RIsnGX"
      },
      "outputs": [],
      "source": [
        "from surprise import KNNBaseline"
      ]
    },
    {
      "cell_type": "code",
      "execution_count": null,
      "metadata": {
        "id": "tXiC1B1dsnGY"
      },
      "outputs": [],
      "source": [
        "algo = KNNBaseline(k=3, verbose=False)\n",
        "algo.fit(trainset)\n",
        "predictions = algo.test(testset)"
      ]
    },
    {
      "cell_type": "code",
      "execution_count": null,
      "metadata": {
        "id": "zt7Nf60AsnGZ",
        "outputId": "5d90b354-8896-4cac-82e8-6fd16983b88c"
      },
      "outputs": [
        {
          "data": {
            "text/html": [
              "<div>\n",
              "<style scoped>\n",
              "    .dataframe tbody tr th:only-of-type {\n",
              "        vertical-align: middle;\n",
              "    }\n",
              "\n",
              "    .dataframe tbody tr th {\n",
              "        vertical-align: top;\n",
              "    }\n",
              "\n",
              "    .dataframe thead th {\n",
              "        text-align: right;\n",
              "    }\n",
              "</style>\n",
              "<table border=\"1\" class=\"dataframe\">\n",
              "  <thead>\n",
              "    <tr style=\"text-align: right;\">\n",
              "      <th>itemID</th>\n",
              "      <th>A</th>\n",
              "      <th>B</th>\n",
              "      <th>C</th>\n",
              "      <th>D</th>\n",
              "      <th>E</th>\n",
              "      <th>F</th>\n",
              "    </tr>\n",
              "    <tr>\n",
              "      <th>userID</th>\n",
              "      <th></th>\n",
              "      <th></th>\n",
              "      <th></th>\n",
              "      <th></th>\n",
              "      <th></th>\n",
              "      <th></th>\n",
              "    </tr>\n",
              "  </thead>\n",
              "  <tbody>\n",
              "    <tr>\n",
              "      <td>1</td>\n",
              "      <td>3.000000</td>\n",
              "      <td>4.000000</td>\n",
              "      <td>2.000000</td>\n",
              "      <td>4.000000</td>\n",
              "      <td>1.000000</td>\n",
              "      <td>2.507435</td>\n",
              "    </tr>\n",
              "    <tr>\n",
              "      <td>2</td>\n",
              "      <td>3.000000</td>\n",
              "      <td>4.000000</td>\n",
              "      <td>2.000000</td>\n",
              "      <td>4.000000</td>\n",
              "      <td>2.601745</td>\n",
              "      <td>2.000000</td>\n",
              "    </tr>\n",
              "    <tr>\n",
              "      <td>3</td>\n",
              "      <td>3.256100</td>\n",
              "      <td>2.000000</td>\n",
              "      <td>5.000000</td>\n",
              "      <td>5.000000</td>\n",
              "      <td>3.527693</td>\n",
              "      <td>5.000000</td>\n",
              "    </tr>\n",
              "    <tr>\n",
              "      <td>4</td>\n",
              "      <td>3.083864</td>\n",
              "      <td>4.197382</td>\n",
              "      <td>2.083864</td>\n",
              "      <td>4.083864</td>\n",
              "      <td>4.000000</td>\n",
              "      <td>3.976639</td>\n",
              "    </tr>\n",
              "    <tr>\n",
              "      <td>5</td>\n",
              "      <td>3.000000</td>\n",
              "      <td>3.834977</td>\n",
              "      <td>2.000000</td>\n",
              "      <td>4.000000</td>\n",
              "      <td>4.000000</td>\n",
              "      <td>3.013312</td>\n",
              "    </tr>\n",
              "    <tr>\n",
              "      <td>6</td>\n",
              "      <td>3.418235</td>\n",
              "      <td>5.000000</td>\n",
              "      <td>5.000000</td>\n",
              "      <td>5.000000</td>\n",
              "      <td>3.590444</td>\n",
              "      <td>5.000000</td>\n",
              "    </tr>\n",
              "    <tr>\n",
              "      <td>7</td>\n",
              "      <td>1.000000</td>\n",
              "      <td>3.366011</td>\n",
              "      <td>1.857717</td>\n",
              "      <td>2.000000</td>\n",
              "      <td>3.095321</td>\n",
              "      <td>3.000000</td>\n",
              "    </tr>\n",
              "    <tr>\n",
              "      <td>8</td>\n",
              "      <td>2.579863</td>\n",
              "      <td>3.471928</td>\n",
              "      <td>3.463240</td>\n",
              "      <td>4.463240</td>\n",
              "      <td>4.000000</td>\n",
              "      <td>4.000000</td>\n",
              "    </tr>\n",
              "  </tbody>\n",
              "</table>\n",
              "</div>"
            ],
            "text/plain": [
              "itemID         A         B         C         D         E         F\n",
              "userID                                                            \n",
              "1       3.000000  4.000000  2.000000  4.000000  1.000000  2.507435\n",
              "2       3.000000  4.000000  2.000000  4.000000  2.601745  2.000000\n",
              "3       3.256100  2.000000  5.000000  5.000000  3.527693  5.000000\n",
              "4       3.083864  4.197382  2.083864  4.083864  4.000000  3.976639\n",
              "5       3.000000  3.834977  2.000000  4.000000  4.000000  3.013312\n",
              "6       3.418235  5.000000  5.000000  5.000000  3.590444  5.000000\n",
              "7       1.000000  3.366011  1.857717  2.000000  3.095321  3.000000\n",
              "8       2.579863  3.471928  3.463240  4.463240  4.000000  4.000000"
            ]
          },
          "execution_count": 12,
          "metadata": {},
          "output_type": "execute_result"
        }
      ],
      "source": [
        "df_predict=pd.DataFrame(columns=['userID', 'itemID', 'rating'])\n",
        "df_unpivot3 = df_unpivot.copy()\n",
        "for i in predictions:\n",
        "    df_unpivot3 = df_unpivot3.append({'userID':i.uid, 'itemID': i.iid, 'rating': i.est}, ignore_index=True)\n",
        "    df_predict = df_predict.append({'userID':i.uid, 'itemID': i.iid, 'rating': i.est}, ignore_index=True)\n",
        "df_unpivot3.pivot(index='userID', columns='itemID', values='rating')"
      ]
    },
    {
      "cell_type": "code",
      "execution_count": null,
      "metadata": {
        "id": "qo_R_Q1psnGZ",
        "outputId": "6a7f16d6-9478-4aef-bc31-ee97d9df924e"
      },
      "outputs": [
        {
          "data": {
            "text/html": [
              "<div>\n",
              "<style scoped>\n",
              "    .dataframe tbody tr th:only-of-type {\n",
              "        vertical-align: middle;\n",
              "    }\n",
              "\n",
              "    .dataframe tbody tr th {\n",
              "        vertical-align: top;\n",
              "    }\n",
              "\n",
              "    .dataframe thead th {\n",
              "        text-align: right;\n",
              "    }\n",
              "</style>\n",
              "<table border=\"1\" class=\"dataframe\">\n",
              "  <thead>\n",
              "    <tr style=\"text-align: right;\">\n",
              "      <th>itemID</th>\n",
              "      <th>A</th>\n",
              "      <th>B</th>\n",
              "      <th>C</th>\n",
              "      <th>D</th>\n",
              "      <th>E</th>\n",
              "      <th>F</th>\n",
              "    </tr>\n",
              "    <tr>\n",
              "      <th>userID</th>\n",
              "      <th></th>\n",
              "      <th></th>\n",
              "      <th></th>\n",
              "      <th></th>\n",
              "      <th></th>\n",
              "      <th></th>\n",
              "    </tr>\n",
              "  </thead>\n",
              "  <tbody>\n",
              "    <tr>\n",
              "      <td>1</td>\n",
              "      <td>NaN</td>\n",
              "      <td>NaN</td>\n",
              "      <td>NaN</td>\n",
              "      <td>NaN</td>\n",
              "      <td>NaN</td>\n",
              "      <td>2.507435</td>\n",
              "    </tr>\n",
              "    <tr>\n",
              "      <td>2</td>\n",
              "      <td>NaN</td>\n",
              "      <td>NaN</td>\n",
              "      <td>NaN</td>\n",
              "      <td>NaN</td>\n",
              "      <td>2.601745</td>\n",
              "      <td>NaN</td>\n",
              "    </tr>\n",
              "    <tr>\n",
              "      <td>3</td>\n",
              "      <td>3.256100</td>\n",
              "      <td>NaN</td>\n",
              "      <td>NaN</td>\n",
              "      <td>NaN</td>\n",
              "      <td>3.527693</td>\n",
              "      <td>NaN</td>\n",
              "    </tr>\n",
              "    <tr>\n",
              "      <td>4</td>\n",
              "      <td>3.083864</td>\n",
              "      <td>4.197382</td>\n",
              "      <td>2.083864</td>\n",
              "      <td>4.083864</td>\n",
              "      <td>NaN</td>\n",
              "      <td>3.976639</td>\n",
              "    </tr>\n",
              "    <tr>\n",
              "      <td>5</td>\n",
              "      <td>NaN</td>\n",
              "      <td>3.834977</td>\n",
              "      <td>NaN</td>\n",
              "      <td>NaN</td>\n",
              "      <td>NaN</td>\n",
              "      <td>3.013312</td>\n",
              "    </tr>\n",
              "    <tr>\n",
              "      <td>6</td>\n",
              "      <td>3.418235</td>\n",
              "      <td>NaN</td>\n",
              "      <td>NaN</td>\n",
              "      <td>NaN</td>\n",
              "      <td>3.590444</td>\n",
              "      <td>NaN</td>\n",
              "    </tr>\n",
              "    <tr>\n",
              "      <td>7</td>\n",
              "      <td>NaN</td>\n",
              "      <td>3.366011</td>\n",
              "      <td>1.857717</td>\n",
              "      <td>NaN</td>\n",
              "      <td>3.095321</td>\n",
              "      <td>NaN</td>\n",
              "    </tr>\n",
              "    <tr>\n",
              "      <td>8</td>\n",
              "      <td>2.579863</td>\n",
              "      <td>3.471928</td>\n",
              "      <td>3.463240</td>\n",
              "      <td>4.463240</td>\n",
              "      <td>NaN</td>\n",
              "      <td>NaN</td>\n",
              "    </tr>\n",
              "  </tbody>\n",
              "</table>\n",
              "</div>"
            ],
            "text/plain": [
              "itemID         A         B         C         D         E         F\n",
              "userID                                                            \n",
              "1            NaN       NaN       NaN       NaN       NaN  2.507435\n",
              "2            NaN       NaN       NaN       NaN  2.601745       NaN\n",
              "3       3.256100       NaN       NaN       NaN  3.527693       NaN\n",
              "4       3.083864  4.197382  2.083864  4.083864       NaN  3.976639\n",
              "5            NaN  3.834977       NaN       NaN       NaN  3.013312\n",
              "6       3.418235       NaN       NaN       NaN  3.590444       NaN\n",
              "7            NaN  3.366011  1.857717       NaN  3.095321       NaN\n",
              "8       2.579863  3.471928  3.463240  4.463240       NaN       NaN"
            ]
          },
          "execution_count": 13,
          "metadata": {},
          "output_type": "execute_result"
        }
      ],
      "source": [
        "df_predict_pivot=df_predict.pivot(index='userID', columns='itemID', values='rating')\n",
        "df_predict_pivot"
      ]
    },
    {
      "cell_type": "code",
      "execution_count": null,
      "metadata": {
        "id": "yH81gRdesnGa",
        "outputId": "1391e2f2-93d6-4a17-ae78-5dbf61dc6b7d"
      },
      "outputs": [
        {
          "data": {
            "text/plain": [
              "userID\n",
              "1    F\n",
              "2    E\n",
              "3    E\n",
              "4    B\n",
              "5    B\n",
              "6    E\n",
              "7    B\n",
              "8    D\n",
              "dtype: object"
            ]
          },
          "execution_count": 16,
          "metadata": {},
          "output_type": "execute_result"
        }
      ],
      "source": [
        "df_predict_pivot.idxmax(axis=1)"
      ]
    },
    {
      "cell_type": "code",
      "execution_count": null,
      "metadata": {
        "id": "XZM11k7_snGa"
      },
      "outputs": [],
      "source": [
        "algo = KNNBaseline(k=4, sim_options = {'user_based': False }, verbose=False)\n",
        "algo.fit(trainset)\n",
        "\n",
        "predictions = algo.test(testset)"
      ]
    },
    {
      "cell_type": "code",
      "execution_count": null,
      "metadata": {
        "id": "rJNc6fC6snGb"
      },
      "outputs": [],
      "source": [
        "df_predict=pd.DataFrame(columns=['userID', 'itemID', 'rating'])\n",
        "for i in predictions:\n",
        "    df_predict = df_predict.append({'userID':i.uid, 'itemID': i.iid, 'rating': i.est}, ignore_index=True)"
      ]
    },
    {
      "cell_type": "code",
      "execution_count": null,
      "metadata": {
        "id": "nFu4N6AcsnGb",
        "outputId": "6cd5685d-0106-433f-b422-effa0dc01254"
      },
      "outputs": [
        {
          "data": {
            "text/html": [
              "<div>\n",
              "<style scoped>\n",
              "    .dataframe tbody tr th:only-of-type {\n",
              "        vertical-align: middle;\n",
              "    }\n",
              "\n",
              "    .dataframe tbody tr th {\n",
              "        vertical-align: top;\n",
              "    }\n",
              "\n",
              "    .dataframe thead th {\n",
              "        text-align: right;\n",
              "    }\n",
              "</style>\n",
              "<table border=\"1\" class=\"dataframe\">\n",
              "  <thead>\n",
              "    <tr style=\"text-align: right;\">\n",
              "      <th>itemID</th>\n",
              "      <th>A</th>\n",
              "      <th>B</th>\n",
              "      <th>C</th>\n",
              "      <th>D</th>\n",
              "      <th>E</th>\n",
              "      <th>F</th>\n",
              "    </tr>\n",
              "    <tr>\n",
              "      <th>userID</th>\n",
              "      <th></th>\n",
              "      <th></th>\n",
              "      <th></th>\n",
              "      <th></th>\n",
              "      <th></th>\n",
              "      <th></th>\n",
              "    </tr>\n",
              "  </thead>\n",
              "  <tbody>\n",
              "    <tr>\n",
              "      <td>1</td>\n",
              "      <td>NaN</td>\n",
              "      <td>NaN</td>\n",
              "      <td>NaN</td>\n",
              "      <td>NaN</td>\n",
              "      <td>NaN</td>\n",
              "      <td>2.212165</td>\n",
              "    </tr>\n",
              "    <tr>\n",
              "      <td>2</td>\n",
              "      <td>NaN</td>\n",
              "      <td>NaN</td>\n",
              "      <td>NaN</td>\n",
              "      <td>NaN</td>\n",
              "      <td>2.290988</td>\n",
              "      <td>NaN</td>\n",
              "    </tr>\n",
              "    <tr>\n",
              "      <td>3</td>\n",
              "      <td>3.858465</td>\n",
              "      <td>NaN</td>\n",
              "      <td>NaN</td>\n",
              "      <td>NaN</td>\n",
              "      <td>4.678967</td>\n",
              "      <td>NaN</td>\n",
              "    </tr>\n",
              "    <tr>\n",
              "      <td>4</td>\n",
              "      <td>3.818825</td>\n",
              "      <td>4.122894</td>\n",
              "      <td>3.956402</td>\n",
              "      <td>4.261502</td>\n",
              "      <td>NaN</td>\n",
              "      <td>4.155852</td>\n",
              "    </tr>\n",
              "    <tr>\n",
              "      <td>5</td>\n",
              "      <td>NaN</td>\n",
              "      <td>3.337475</td>\n",
              "      <td>NaN</td>\n",
              "      <td>NaN</td>\n",
              "      <td>NaN</td>\n",
              "      <td>3.311002</td>\n",
              "    </tr>\n",
              "    <tr>\n",
              "      <td>6</td>\n",
              "      <td>4.698465</td>\n",
              "      <td>NaN</td>\n",
              "      <td>NaN</td>\n",
              "      <td>NaN</td>\n",
              "      <td>4.870350</td>\n",
              "      <td>NaN</td>\n",
              "    </tr>\n",
              "    <tr>\n",
              "      <td>7</td>\n",
              "      <td>NaN</td>\n",
              "      <td>1.789695</td>\n",
              "      <td>2.155844</td>\n",
              "      <td>NaN</td>\n",
              "      <td>2.383400</td>\n",
              "      <td>NaN</td>\n",
              "    </tr>\n",
              "    <tr>\n",
              "      <td>8</td>\n",
              "      <td>3.740899</td>\n",
              "      <td>4.021251</td>\n",
              "      <td>3.835183</td>\n",
              "      <td>4.150897</td>\n",
              "      <td>NaN</td>\n",
              "      <td>NaN</td>\n",
              "    </tr>\n",
              "  </tbody>\n",
              "</table>\n",
              "</div>"
            ],
            "text/plain": [
              "itemID         A         B         C         D         E         F\n",
              "userID                                                            \n",
              "1            NaN       NaN       NaN       NaN       NaN  2.212165\n",
              "2            NaN       NaN       NaN       NaN  2.290988       NaN\n",
              "3       3.858465       NaN       NaN       NaN  4.678967       NaN\n",
              "4       3.818825  4.122894  3.956402  4.261502       NaN  4.155852\n",
              "5            NaN  3.337475       NaN       NaN       NaN  3.311002\n",
              "6       4.698465       NaN       NaN       NaN  4.870350       NaN\n",
              "7            NaN  1.789695  2.155844       NaN  2.383400       NaN\n",
              "8       3.740899  4.021251  3.835183  4.150897       NaN       NaN"
            ]
          },
          "execution_count": 18,
          "metadata": {},
          "output_type": "execute_result"
        }
      ],
      "source": [
        "df_predict_pivot2=df_predict.pivot(index='userID', columns='itemID', values='rating')\n",
        "df_predict_pivot2"
      ]
    },
    {
      "cell_type": "code",
      "execution_count": null,
      "metadata": {
        "id": "rJiaQQImsnGc",
        "outputId": "ad5fbbaa-5e5a-4a83-882e-321f002b82bf"
      },
      "outputs": [
        {
          "data": {
            "text/plain": [
              "userID\n",
              "1    F\n",
              "2    E\n",
              "3    E\n",
              "4    B\n",
              "5    B\n",
              "6    E\n",
              "7    B\n",
              "8    D\n",
              "dtype: object"
            ]
          },
          "execution_count": 17,
          "metadata": {},
          "output_type": "execute_result"
        }
      ],
      "source": [
        "df_predict_pivot.idxmax(axis=1)"
      ]
    },
    {
      "cell_type": "markdown",
      "metadata": {
        "id": "aPavUkvMsnGc"
      },
      "source": [
        "## Ранговые метрики"
      ]
    },
    {
      "cell_type": "markdown",
      "metadata": {
        "id": "bAu2qJRIsnGd"
      },
      "source": [
        "## NDSG"
      ]
    },
    {
      "cell_type": "code",
      "execution_count": null,
      "metadata": {
        "id": "fCshkbdKsnGd"
      },
      "outputs": [],
      "source": [
        "from sklearn.metrics import ndcg_score"
      ]
    },
    {
      "cell_type": "code",
      "execution_count": null,
      "metadata": {
        "id": "V-RO-3lYsnGd",
        "outputId": "5dd2d388-d83e-41de-eeb3-12ca8666d787"
      },
      "outputs": [
        {
          "data": {
            "text/plain": [
              "0.6956940443813076"
            ]
          },
          "execution_count": 20,
          "metadata": {},
          "output_type": "execute_result"
        }
      ],
      "source": [
        "\n",
        "true_relevance = np.asarray([[10, 0, 0, 1, 5]])\n",
        "scores = np.asarray([[.1, .2, .3, 4, 70]])\n",
        "ndcg_score(true_relevance, scores)"
      ]
    },
    {
      "cell_type": "code",
      "execution_count": null,
      "metadata": {
        "id": "o0hmYjcqsnGe",
        "outputId": "a3b2eaaf-0005-4baf-9c58-6dbdc90202d7"
      },
      "outputs": [
        {
          "data": {
            "text/plain": [
              "0.493680191377376"
            ]
          },
          "execution_count": 21,
          "metadata": {},
          "output_type": "execute_result"
        }
      ],
      "source": [
        "scores = np.asarray([[.05, 1.1, 1., .5, .0]])\n",
        "ndcg_score(true_relevance, scores) # doctest: +ELLIPSIS"
      ]
    },
    {
      "cell_type": "code",
      "execution_count": null,
      "metadata": {
        "id": "4mdTiEMbsnGe",
        "outputId": "dced9771-d6d4-4bc9-d3e7-65f2ab04b039"
      },
      "outputs": [
        {
          "data": {
            "text/plain": [
              "0.3520241100634488"
            ]
          },
          "execution_count": 22,
          "metadata": {},
          "output_type": "execute_result"
        }
      ],
      "source": [
        "ndcg_score(true_relevance, scores, k=4)"
      ]
    },
    {
      "cell_type": "markdown",
      "metadata": {
        "id": "T2l4IjplsnGf"
      },
      "source": [
        "## Top-K"
      ]
    },
    {
      "cell_type": "code",
      "execution_count": null,
      "metadata": {
        "id": "YXfi1b8gsnGf"
      },
      "outputs": [],
      "source": [
        "data = Dataset.load_builtin('ml-100k')"
      ]
    },
    {
      "cell_type": "code",
      "execution_count": null,
      "metadata": {
        "id": "yP7_BAmcsnGg"
      },
      "outputs": [],
      "source": [
        "from surprise.model_selection import train_test_split"
      ]
    },
    {
      "cell_type": "code",
      "execution_count": null,
      "metadata": {
        "id": "aX-crwxNsnGg"
      },
      "outputs": [],
      "source": [
        "trainset, testset = train_test_split(data, test_size=.30) #разоббем выборку на обучение и тест"
      ]
    },
    {
      "cell_type": "code",
      "execution_count": null,
      "metadata": {
        "id": "8BzxUaa4snGg"
      },
      "outputs": [],
      "source": [
        "algo = KNNBaseline(k=20, verbose=False)\n",
        "predictions = algo.fit(trainset).test(testset)"
      ]
    },
    {
      "cell_type": "code",
      "execution_count": null,
      "metadata": {
        "id": "OfpYDCYAsnGg"
      },
      "outputs": [],
      "source": [
        "df_ratings=pd.DataFrame(columns=['userID', 'itemID', 'rating', 'real_rating'])\n",
        "for i in predictions:\n",
        "    #if int(i.uid)==833:\n",
        "    df_ratings = df_ratings.append({'userID':i.uid, 'itemID': i.iid, 'rating': i.est, 'real_rating': i.r_ui}, ignore_index=True)"
      ]
    },
    {
      "cell_type": "code",
      "execution_count": null,
      "metadata": {
        "id": "LAPX2xdUsnGh"
      },
      "outputs": [],
      "source": [
        "user456=df_ratings[df_ratings.userID=='456']"
      ]
    },
    {
      "cell_type": "code",
      "execution_count": null,
      "metadata": {
        "id": "zKZ9BG_HsnGh"
      },
      "outputs": [],
      "source": [
        "def Precision_at_n(df_ratings, n=3, threshold=5):\n",
        "    rel_n = set(df_ratings[df_ratings.real_rating>=threshold]['itemID'])\n",
        "    t=df_ratings.sort_values(by='rating', ascending=False)[0:n]\n",
        "    ret_n=set(t['itemID'])\n",
        "    return len(rel_n & ret_n)/n"
      ]
    },
    {
      "cell_type": "code",
      "execution_count": null,
      "metadata": {
        "id": "XTGdXVNNsnGh"
      },
      "outputs": [],
      "source": [
        "def Avg_Precision_at_n(df_ratings, n=10,threshold=5):\n",
        "    avg_p=0\n",
        "    rel_n = set(df_ratings[df_ratings.real_rating>=threshold]['itemID'])\n",
        "\n",
        "    for i in range(1,n+1):\n",
        "        t=df_ratings.sort_values(by='rating', ascending=False)[0:i]\n",
        "        ret_n=set(t['itemID'])\n",
        "        t2=df_ratings.sort_values(by='rating', ascending=False)[i-1:i]\n",
        "        ret_n2=set(t2['itemID'])\n",
        "        #print(ret_n2,ret_n)\n",
        "        if len((ret_n2 & rel_n))>0:\n",
        "            avg_p=avg_p+len(rel_n & ret_n)/n\n",
        "    return avg_p/n"
      ]
    },
    {
      "cell_type": "code",
      "execution_count": null,
      "metadata": {
        "id": "Fs6W-BJFsnGi",
        "outputId": "47b19b6c-5ca3-4c2b-a611-8f52047792cd"
      },
      "outputs": [
        {
          "name": "stdout",
          "output_type": "stream",
          "text": [
            "3 0.0\n",
            "4 0.25\n",
            "7 0.14285714285714285\n",
            "12 0.08333333333333333\n",
            "14 0.07142857142857142\n"
          ]
        }
      ],
      "source": [
        "for i in [3,4,7,12,14]:\n",
        "    print(i,Precision_at_n(user456,i))"
      ]
    },
    {
      "cell_type": "code",
      "execution_count": null,
      "metadata": {
        "id": "P-JCRBv6snGi",
        "outputId": "ca95588c-8985-4799-8820-aec3fef03f5d"
      },
      "outputs": [
        {
          "name": "stdout",
          "output_type": "stream",
          "text": [
            "3 0.0\n",
            "4 0.0625\n",
            "7 0.02040816326530612\n",
            "12 0.006944444444444444\n",
            "14 0.00510204081632653\n"
          ]
        }
      ],
      "source": [
        "for i in [3,4,7,12,14]:\n",
        "    print(i,Avg_Precision_at_n(user456,i))"
      ]
    }
  ],
  "metadata": {
    "kernelspec": {
      "display_name": "Python 3",
      "language": "python",
      "name": "python3"
    },
    "language_info": {
      "codemirror_mode": {
        "name": "ipython",
        "version": 3
      },
      "file_extension": ".py",
      "mimetype": "text/x-python",
      "name": "python",
      "nbconvert_exporter": "python",
      "pygments_lexer": "ipython3",
      "version": "3.7.4"
    },
    "colab": {
      "provenance": [],
      "include_colab_link": true
    }
  },
  "nbformat": 4,
  "nbformat_minor": 0
}